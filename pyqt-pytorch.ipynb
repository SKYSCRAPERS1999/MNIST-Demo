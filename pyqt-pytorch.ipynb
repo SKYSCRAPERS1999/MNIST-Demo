{
 "cells": [
  {
   "cell_type": "code",
   "execution_count": 28,
   "metadata": {
    "ExecuteTime": {
     "end_time": "2019-11-04T08:54:55.297583Z",
     "start_time": "2019-11-04T08:54:55.204295Z"
    }
   },
   "outputs": [],
   "source": [
    "import sys\n",
    "from PyQt5.QtWidgets import QApplication, QWidget, QLabel, QMainWindow\n",
    "from PyQt5.QtCore import Qt"
   ]
  },
  {
   "cell_type": "code",
   "execution_count": 2,
   "metadata": {
    "ExecuteTime": {
     "end_time": "2019-11-03T15:52:51.082661Z",
     "start_time": "2019-11-03T15:52:51.079031Z"
    }
   },
   "outputs": [],
   "source": [
    "# Subclass QMainWindow to customise your application's main window\n",
    "class MainWindow(QMainWindow):\n",
    "\n",
    "    def __init__(self, *args, **kwargs):\n",
    "        super(MainWindow, self).__init__(*args, **kwargs)\n",
    "\n",
    "        self.setWindowTitle(\"My Awesome App\")\n",
    "\n",
    "        label = QLabel(\"This is a PyQt5 window!\")\n",
    "\n",
    "        # The `Qt` namespace has a lot of attributes to customise\n",
    "        # widgets. See: http://doc.qt.io/qt-5/qt.html\n",
    "        label.setAlignment(Qt.AlignCenter)\n",
    "\n",
    "        # Set the central widget of the Window. Widget will expand\n",
    "        # to take up all the space in the window by default.\n",
    "        self.setCentralWidget(label)"
   ]
  },
  {
   "cell_type": "code",
   "execution_count": 2,
   "metadata": {
    "ExecuteTime": {
     "end_time": "2019-11-03T15:53:33.972513Z",
     "start_time": "2019-11-03T15:53:33.967692Z"
    }
   },
   "outputs": [],
   "source": [
    "class MainWindow(QMainWindow):\n",
    "\n",
    "    def __init__(self, *args, **kwargs):\n",
    "        super(MainWindow, self).__init__(*args, **kwargs)\n",
    "        \n",
    "        # SIGNAL: The connected function will be called whenever the window\n",
    "        # title is changed. The new title will be passed to the function.\n",
    "#         self.windowTitleChanged.connect(self.onWindowTitleChange)\n",
    "\n",
    "        # SIGNAL: The connected function will be called whenever the window\n",
    "        # title is changed. The new title is discarded in the lambda and the\n",
    "        # function is called without parameters.\n",
    "#         self.windowTitleChanged.connect(lambda x: self.my_custom_fn())\n",
    "\n",
    "        # SIGNAL: The connected function will be called whenever the window\n",
    "        # title is changed. The new title is passed to the function\n",
    "        # and replaces the default parameter\n",
    "        self.windowTitleChanged.connect(lambda x: self.my_custom_fn(x))\n",
    "\n",
    "        # SIGNAL: The connected function will be called whenever the window\n",
    "        # title is changed. The new title is passed to the function\n",
    "        # and replaces the default parameter. Extra data is passed from\n",
    "        # within the lambda.\n",
    "#         self.windowTitleChanged.connect(lambda x: self.my_custom_fn(x, 25))\n",
    "        \n",
    "        # This sets the window title which will trigger all the above signals\n",
    "        # sending the new title to the attached functions or lambdas as the\n",
    "        # first parameter.\n",
    "        self.setWindowTitle(\"My Awesome App\")\n",
    "        \n",
    "        label = QLabel(\"THIS IS AWESOME!!!\")\n",
    "        label.setAlignment(Qt.AlignCenter)\n",
    "\n",
    "        self.setCentralWidget(label)\n",
    "        \n",
    "        \n",
    "    # SLOT: This accepts a string, e.g. the window title, and prints it\n",
    "    def onWindowTitleChange(self, s):\n",
    "        print(s)\n",
    "\n",
    "    # SLOT: This has default parameters and can be called without a value\n",
    "    def my_custom_fn(self, a=\"HELLLO!\", b=5):\n",
    "        print(a, b)"
   ]
  },
  {
   "cell_type": "code",
   "execution_count": 3,
   "metadata": {
    "ExecuteTime": {
     "end_time": "2019-11-03T15:53:41.154214Z",
     "start_time": "2019-11-03T15:53:35.613238Z"
    }
   },
   "outputs": [
    {
     "name": "stdout",
     "output_type": "stream",
     "text": [
      "My Awesome App 5\n"
     ]
    },
    {
     "data": {
      "text/plain": [
       "0"
      ]
     },
     "execution_count": 3,
     "metadata": {},
     "output_type": "execute_result"
    }
   ],
   "source": [
    "app = QApplication(sys.argv)\n",
    "\n",
    "window = MainWindow()\n",
    "window.show() # IMPORTANT!!!!! Windows are hidden by default.\n",
    "\n",
    "# Start the event loop.\n",
    "app.exec_()"
   ]
  },
  {
   "cell_type": "code",
   "execution_count": 1,
   "metadata": {
    "ExecuteTime": {
     "end_time": "2019-11-04T02:53:42.090251Z",
     "start_time": "2019-11-04T02:53:36.686446Z"
    }
   },
   "outputs": [
    {
     "name": "stdout",
     "output_type": "stream",
     "text": [
      "False\n",
      "0\n",
      "True\n",
      "2\n",
      "False\n",
      "0\n"
     ]
    },
    {
     "data": {
      "text/plain": [
       "0"
      ]
     },
     "execution_count": 1,
     "metadata": {},
     "output_type": "execute_result"
    }
   ],
   "source": [
    "from PyQt5.QtWidgets import *\n",
    "from PyQt5.QtCore import *\n",
    "from PyQt5.QtGui import *\n",
    "\n",
    "# Only needed for access to command line arguments\n",
    "import sys\n",
    "\n",
    "class MainWindow(QMainWindow):\n",
    "    def __init__(self, *args, **kwargs):\n",
    "        super(MainWindow, self).__init__(*args, **kwargs)\n",
    "\n",
    "        self.setWindowTitle(\"My Awesome App\")\n",
    "\n",
    "        widget = QCheckBox()\n",
    "        widget.setCheckState(Qt.Checked)\n",
    "\n",
    "        # For tristate: widget.setCheckState(Qt.PartiallyChecked)\n",
    "        # Or: widget.setTriState(True)\n",
    "        widget.stateChanged.connect(self.show_state)\n",
    "        \n",
    "        self.setCentralWidget(widget)\n",
    "        \n",
    "        \n",
    "    def show_state(self, s):\n",
    "        print(s == Qt.Checked)\n",
    "        print(s)\n",
    "\n",
    "# You need one (and only one) QApplication instance per application.\n",
    "# Pass in sys.argv to allow command line arguments for your app.\n",
    "# If you know you won't use command line arguments QApplication([]) works too.\n",
    "app = QApplication(sys.argv)\n",
    "\n",
    "window = MainWindow()\n",
    "window.show() # IMPORTANT!!!!! Windows are hidden by default.\n",
    "\n",
    "# Start the event loop.\n",
    "app.exec_()\n",
    "\n",
    "\n",
    "# Your application won't reach here until you exit and the event \n",
    "# loop has stopped."
   ]
  },
  {
   "cell_type": "code",
   "execution_count": 4,
   "metadata": {
    "ExecuteTime": {
     "end_time": "2019-11-04T02:58:56.759916Z",
     "start_time": "2019-11-04T02:58:47.172837Z"
    }
   },
   "outputs": [
    {
     "name": "stdout",
     "output_type": "stream",
     "text": [
      "2\n",
      "Three\n",
      "1\n",
      "Two\n"
     ]
    },
    {
     "data": {
      "text/plain": [
       "0"
      ]
     },
     "execution_count": 4,
     "metadata": {},
     "output_type": "execute_result"
    }
   ],
   "source": [
    "from PyQt5.QtWidgets import *\n",
    "from PyQt5.QtCore import *\n",
    "from PyQt5.QtGui import *\n",
    "import sys\n",
    "\n",
    "class MainWindow(QMainWindow):\n",
    "\n",
    "    def __init__(self, *args, **kwargs):\n",
    "        super(MainWindow, self).__init__(*args, **kwargs)\n",
    "        \n",
    "        self.setWindowTitle(\"My Awesome App\")\n",
    "        \n",
    "        widget = QComboBox()\n",
    "        widget.addItems([\"One\", \"Two\", \"Three\"])\n",
    "\n",
    "        # The default signal from currentIndexChanged sends the index\n",
    "        widget.currentIndexChanged.connect( self.index_changed )\n",
    "        \n",
    "        # The same signal can send a text string\n",
    "        widget.currentIndexChanged[str].connect( self.text_changed )\n",
    "\n",
    "        self.setCentralWidget(widget)\n",
    "\n",
    "\n",
    "    def index_changed(self, i): # i is an int\n",
    "        print(i)\n",
    "        \n",
    "    def text_changed(self, s): # s is a str\n",
    "        print(s)\n",
    "\n",
    "app = QApplication(sys.argv)\n",
    "window = MainWindow()\n",
    "window.show()\n",
    "\n",
    "app.exec_()"
   ]
  },
  {
   "cell_type": "markdown",
   "metadata": {},
   "source": [
    "# Main Section"
   ]
  },
  {
   "cell_type": "code",
   "execution_count": 53,
   "metadata": {
    "ExecuteTime": {
     "end_time": "2019-11-04T15:17:58.555232Z",
     "start_time": "2019-11-04T15:17:58.537428Z"
    }
   },
   "outputs": [],
   "source": [
    "from __future__ import print_function\n",
    "import argparse\n",
    "import torch\n",
    "import torch.nn as nn\n",
    "import torch.nn.functional as F\n",
    "import torch.optim as optim\n",
    "from torchvision import datasets, transforms\n",
    "\n",
    "class Net(nn.Module):\n",
    "    def __init__(self):\n",
    "        super(Net, self).__init__()\n",
    "        self.conv1 = nn.Conv2d(1, 20, 5, 1)\n",
    "        self.conv2 = nn.Conv2d(20, 50, 5, 1)\n",
    "        self.fc1 = nn.Linear(4 * 4 * 50, 500)\n",
    "        self.fc2 = nn.Linear(500, 10)\n",
    "\n",
    "    def forward(self, x):\n",
    "        x = F.relu(self.conv1(x))\n",
    "        x = F.max_pool2d(x, 2, 2)\n",
    "        x = F.relu(self.conv2(x))\n",
    "        x = F.max_pool2d(x, 2, 2)\n",
    "        x = x.view(-1, 4 * 4 * 50)\n",
    "        x = F.relu(self.fc1(x))\n",
    "        x = self.fc2(x)\n",
    "        return F.log_softmax(x, dim=1)\n",
    "    \n",
    "def train(args, model, device, train_loader, optimizer, epoch):\n",
    "    model.train()\n",
    "    for batch_idx, (data, target) in enumerate(train_loader):\n",
    "        data, target = data.to(device), target.to(device)\n",
    "        optimizer.zero_grad()\n",
    "        output = model(data)\n",
    "        loss = F.nll_loss(output, target)\n",
    "        loss.backward()\n",
    "        optimizer.step()\n",
    "        if batch_idx % args[\"log_interval\"] == 0:\n",
    "            print('Train Epoch: {} [{}/{} ({:.0f}%)]\\tLoss: {:.6f}'.format(\n",
    "                epoch, batch_idx * len(data), len(train_loader.dataset),\n",
    "                100. * batch_idx / len(train_loader), loss.item()))\n",
    "\n",
    "\n",
    "def test(args, model, device, test_loader):\n",
    "    model.eval()\n",
    "    test_loss = 0\n",
    "    correct = 0\n",
    "    with torch.no_grad():\n",
    "        for data, target in test_loader:\n",
    "            data, target = data.to(device), target.to(device)\n",
    "            output = model(data)\n",
    "            test_loss += F.nll_loss(output, target, reduction='sum').item()  # sum up batch loss\n",
    "            pred = output.argmax(dim=1, keepdim=True)  # get the index of the max log-probability\n",
    "            correct += pred.eq(target.view_as(pred)).sum().item()\n",
    "\n",
    "    test_loss /= len(test_loader.dataset)\n",
    "\n",
    "    print('\\nTest set: Average loss: {:.4f}, Accuracy: {}/{} ({:.0f}%)\\n'.format(\n",
    "        test_loss, correct, len(test_loader.dataset),\n",
    "        100. * correct / len(test_loader.dataset)))\n",
    "    \n",
    "def main(batch_size = 64, test_batch_size = 1000, epochs = 10, learning_rate = 0.01, momentum = 0.5, \\\n",
    "         no_cuda = True, seed = 1, log_interval = 10, save_model = True):\n",
    "    # Training settings\n",
    "    args = {}\n",
    "    args[\"batch_size\"] = batch_size \n",
    "    # 'input batch size for training (default: 64)')\n",
    "    args[\"test_batch_size\"] = test_batch_size\n",
    "    # 'input batch size for testing (default: 1000)')\n",
    "    args[\"epochs\"] = epochs\n",
    "    # 'number of epochs to train (default: 10)')\n",
    "    args[\"lr\"] = learning_rate\n",
    "    # 'learning rate (default: 0.01)')\n",
    "    args[\"momentum\"] = momentum\n",
    "    # 'SGD momentum (default: 0.5)')\n",
    "    args[\"no_cuda\"] = no_cuda\n",
    "    # 'disables CUDA training')\n",
    "    args[\"seed\"] = seed\n",
    "    # 'random seed (default: 1)')\n",
    "    args[\"log_interval\"] = log_interval\n",
    "    # 'how many batches to wait before logging training status')\n",
    "    args[\"save_model\"] = save_model\n",
    "    # 'For Saving the current Model')\n",
    "    \n",
    "    use_cuda = not args[\"no_cuda\"] and torch.cuda.is_available()\n",
    "\n",
    "    torch.manual_seed(args[\"seed\"])\n",
    "\n",
    "    device = torch.device(\"cuda\" if use_cuda else \"cpu\")\n",
    "\n",
    "    kwargs = {'num_workers': 1, 'pin_memory': True} if use_cuda else {}\n",
    "    train_loader = torch.utils.data.DataLoader(\n",
    "        datasets.MNIST('../data', train = True, download = True,\n",
    "                       transform=transforms.Compose([\n",
    "                           transforms.ToTensor(),\n",
    "                           transforms.Normalize((0.1307,), (0.3081,))\n",
    "                       ])),\n",
    "        batch_size = args[\"batch_size\"], shuffle = True, **kwargs)\n",
    "    test_loader = torch.utils.data.DataLoader(\n",
    "        datasets.MNIST('../data', train = False, transform = transforms.Compose([\n",
    "                           transforms.ToTensor(),\n",
    "                           transforms.Normalize((0.1307,), (0.3081,))\n",
    "                       ])),\n",
    "        batch_size = args[\"test_batch_size\"], shuffle = True, **kwargs)\n",
    "\n",
    "    model = Net().to(device)\n",
    "    \n",
    "    optimizer = optim.SGD(model.parameters(), lr = args[\"lr\"], momentum = args[\"momentum\"])\n",
    "\n",
    "    for epoch in range(1, args[\"epochs\"] + 1):\n",
    "        train(args, model, device, train_loader, optimizer, epoch)\n",
    "        test(args, model, device, test_loader)\n",
    "\n",
    "    if args[\"save_model\"]:\n",
    "        torch.save(model.state_dict(), \"mnist_cnn.pt\")\n",
    "\n",
    "\n",
    "if __name__ == '__main__':\n",
    "    main()"
   ]
  },
  {
   "cell_type": "code",
   "execution_count": 4,
   "metadata": {
    "ExecuteTime": {
     "end_time": "2019-11-04T15:11:07.855525Z",
     "start_time": "2019-11-04T15:11:07.840208Z"
    }
   },
   "outputs": [
    {
     "data": {
      "text/plain": [
       "<All keys matched successfully>"
      ]
     },
     "execution_count": 4,
     "metadata": {},
     "output_type": "execute_result"
    }
   ],
   "source": [
    "net = Net()\n",
    "net.load_state_dict(torch.load(\"mnist_cnn.pt\"))"
   ]
  },
  {
   "cell_type": "code",
   "execution_count": 5,
   "metadata": {
    "ExecuteTime": {
     "end_time": "2019-11-04T15:11:08.728129Z",
     "start_time": "2019-11-04T15:11:08.716303Z"
    }
   },
   "outputs": [],
   "source": [
    "test_loader = torch.utils.data.DataLoader(\n",
    "        datasets.MNIST('../data', train = False, transform = transforms.Compose([\n",
    "                           transforms.ToTensor(),\n",
    "                           transforms.Normalize((0.1307,), (0.3081,))\n",
    "                       ])),\n",
    "        batch_size = 1, shuffle = True)\n",
    "\n",
    "dataiter = iter(test_loader)"
   ]
  },
  {
   "cell_type": "code",
   "execution_count": 6,
   "metadata": {
    "ExecuteTime": {
     "end_time": "2019-11-04T15:11:09.590609Z",
     "start_time": "2019-11-04T15:11:09.584195Z"
    }
   },
   "outputs": [
    {
     "data": {
      "text/plain": [
       "torch.Size([1, 1, 28, 28])"
      ]
     },
     "execution_count": 6,
     "metadata": {},
     "output_type": "execute_result"
    }
   ],
   "source": [
    "data, target = dataiter.next()\n",
    "data.shape"
   ]
  },
  {
   "cell_type": "code",
   "execution_count": 55,
   "metadata": {
    "ExecuteTime": {
     "end_time": "2019-11-04T15:18:57.372442Z",
     "start_time": "2019-11-04T15:18:57.360026Z"
    }
   },
   "outputs": [
    {
     "data": {
      "text/plain": [
       "tensor([[-0.4242, -0.4242, -0.4242, -0.4242, -0.4242, -0.4242, -0.4242, -0.4242,\n",
       "         -0.4242, -0.4242, -0.4242, -0.4242, -0.4242, -0.4242, -0.4242, -0.4242,\n",
       "         -0.4242, -0.4242, -0.4242, -0.4242, -0.4242, -0.4242, -0.4242, -0.4242,\n",
       "         -0.4242, -0.4242, -0.4242, -0.4242],\n",
       "        [-0.4242, -0.4242, -0.4242, -0.4242, -0.4242, -0.4242, -0.4242, -0.4242,\n",
       "         -0.4242, -0.4242, -0.4242, -0.4242, -0.4242, -0.4242, -0.4242, -0.4242,\n",
       "         -0.4242, -0.4242, -0.4242, -0.4242, -0.4242, -0.4242, -0.4242, -0.4242,\n",
       "         -0.4242, -0.4242, -0.4242, -0.4242],\n",
       "        [-0.4242, -0.4242, -0.4242, -0.4242, -0.4242, -0.4242, -0.4242, -0.4242,\n",
       "         -0.4242, -0.4242, -0.4242, -0.4242, -0.4242, -0.4242, -0.4242, -0.4242,\n",
       "         -0.4242, -0.4242, -0.4242, -0.4242, -0.4242, -0.4242, -0.4242, -0.4242,\n",
       "         -0.4242, -0.4242, -0.4242, -0.4242],\n",
       "        [-0.4242, -0.4242, -0.4242, -0.4242, -0.4242, -0.4242, -0.4242, -0.4242,\n",
       "         -0.4242, -0.4242, -0.4242, -0.4242, -0.4242, -0.4242, -0.4242, -0.4242,\n",
       "         -0.4242, -0.4242, -0.4242, -0.4242, -0.4242, -0.4242, -0.4242, -0.4242,\n",
       "         -0.4242, -0.4242, -0.4242, -0.4242],\n",
       "        [-0.4242, -0.4242, -0.4242, -0.4242, -0.4242, -0.4242, -0.4242, -0.4242,\n",
       "         -0.4242, -0.4242, -0.4242, -0.4242, -0.4242, -0.4242, -0.4242, -0.4242,\n",
       "         -0.4242, -0.4242, -0.4242, -0.4242, -0.4242, -0.4242, -0.4242, -0.4242,\n",
       "         -0.4242, -0.4242, -0.4242, -0.4242],\n",
       "        [-0.4242, -0.4242, -0.4242, -0.4242, -0.4242, -0.4242, -0.4242, -0.4242,\n",
       "         -0.4242, -0.4242, -0.4242, -0.4242, -0.4242, -0.4242, -0.4242, -0.4242,\n",
       "         -0.4242, -0.4242, -0.4242, -0.4242, -0.4242, -0.4242, -0.4242, -0.1569,\n",
       "          0.6322, -0.2587, -0.4242, -0.4242],\n",
       "        [-0.4242, -0.4242, -0.4242, -0.4242, -0.4242, -0.4242, -0.4242, -0.4242,\n",
       "         -0.4242, -0.4242, -0.4242, -0.4242, -0.4242, -0.4242, -0.4242, -0.4242,\n",
       "         -0.4242, -0.4242, -0.3478,  0.0467,  0.4159,  1.5741,  1.5741,  2.6306,\n",
       "          2.7960,  2.2105, -0.4242, -0.4242],\n",
       "        [-0.4242, -0.4242, -0.4242, -0.4242, -0.4242, -0.4242, -0.4242, -0.4242,\n",
       "         -0.4242, -0.4242, -0.4242, -0.4242, -0.4242, -0.4242, -0.4242, -0.4242,\n",
       "          0.2758,  1.7269,  1.8923,  2.7960,  2.7960,  2.7960,  2.7960,  2.7960,\n",
       "          2.7960,  2.7960, -0.4242, -0.4242],\n",
       "        [-0.4242, -0.4242, -0.4242, -0.4242, -0.4242, -0.4242, -0.4242, -0.4242,\n",
       "         -0.4242, -0.4242, -0.4242, -0.4242, -0.4242, -0.4242,  0.9504,  1.8923,\n",
       "          2.8088,  2.7960,  2.7960,  2.7960,  2.7960,  2.7960,  2.7960,  2.4269,\n",
       "          2.7960,  1.3196, -0.4242, -0.4242],\n",
       "        [-0.4242, -0.4242, -0.4242, -0.4242, -0.4242, -0.4242, -0.4242, -0.4242,\n",
       "         -0.4242, -0.4242, -0.4242,  0.2886,  1.0268,  2.0451,  2.7324,  2.7960,\n",
       "          2.8088,  2.7960,  2.2233,  1.8669,  0.7722,  0.3395,  0.3395, -0.0169,\n",
       "          0.3395, -0.3860, -0.4242, -0.4242],\n",
       "        [-0.4242, -0.4242, -0.4242, -0.4242, -0.4242, -0.4242, -0.4242, -0.4242,\n",
       "         -0.4242, -0.2078,  1.7650,  2.6560,  2.7960,  2.7960,  2.7960,  2.2869,\n",
       "          1.6505,  0.1867, -0.1951, -0.4242, -0.4242, -0.4242, -0.4242, -0.4242,\n",
       "         -0.4242, -0.4242, -0.4242, -0.4242],\n",
       "        [-0.4242, -0.4242, -0.4242, -0.4242, -0.4242, -0.4242, -0.4242, -0.4242,\n",
       "         -0.2460,  1.9305,  2.7960,  2.7960,  2.7960,  2.7960,  1.0268, -0.1824,\n",
       "         -0.4242, -0.4242, -0.4242, -0.4242, -0.4242, -0.4242, -0.4242, -0.4242,\n",
       "         -0.4242, -0.4242, -0.4242, -0.4242],\n",
       "        [-0.4242, -0.4242, -0.4242, -0.4242, -0.4242, -0.4242, -0.4242, -0.4242,\n",
       "         -0.1569,  2.3378,  2.7960,  2.7960,  2.2869,  0.7341, -0.3860, -0.4242,\n",
       "         -0.4242, -0.4242, -0.4242, -0.4242, -0.4242, -0.4242, -0.4242, -0.4242,\n",
       "         -0.4242, -0.4242, -0.4242, -0.4242],\n",
       "        [-0.4242, -0.4242, -0.4242, -0.4242, -0.4242, -0.4242, -0.4242, -0.4242,\n",
       "         -0.4242,  1.0013,  2.7960,  2.7960,  2.7960,  2.7451,  1.2559,  0.3904,\n",
       "         -0.4242, -0.4242, -0.4242, -0.4242, -0.4242, -0.4242, -0.4242, -0.4242,\n",
       "         -0.4242, -0.4242, -0.4242, -0.4242],\n",
       "        [-0.4242, -0.4242, -0.4242, -0.4242, -0.4242, -0.4242, -0.4242, -0.4242,\n",
       "         -0.4242, -0.1187,  2.2233,  2.7833,  2.8088,  2.8088,  2.8088,  2.8088,\n",
       "          0.4668, -0.4242, -0.4242, -0.4242, -0.4242, -0.4242, -0.4242, -0.4242,\n",
       "         -0.4242, -0.4242, -0.4242, -0.4242],\n",
       "        [-0.4242, -0.4242, -0.4242, -0.4242, -0.4242, -0.4242, -0.4242, -0.4242,\n",
       "         -0.4242, -0.4242, -0.4242,  0.6322,  0.9632,  2.2742,  2.7706,  2.7960,\n",
       "          2.6560, -0.4242, -0.4242, -0.4242, -0.4242, -0.4242, -0.4242, -0.4242,\n",
       "         -0.4242, -0.4242, -0.4242, -0.4242],\n",
       "        [-0.4242, -0.4242, -0.4242, -0.4242, -0.4242, -0.4242, -0.4242, -0.4242,\n",
       "         -0.4242, -0.4242, -0.4242, -0.4242, -0.4242, -0.4242,  2.2869,  2.7960,\n",
       "          2.7578,  0.6577, -0.4242, -0.4242, -0.4242, -0.4242, -0.4242, -0.4242,\n",
       "         -0.4242, -0.4242, -0.4242, -0.4242],\n",
       "        [-0.4242, -0.4242, -0.4242, -0.4242, -0.4242, -0.4242, -0.0933,  0.1995,\n",
       "         -0.1824, -0.4242, -0.4242, -0.4242, -0.4242, -0.4242,  0.9759,  2.7960,\n",
       "          2.8088,  2.4906, -0.4242, -0.4242, -0.4242, -0.4242, -0.4242, -0.4242,\n",
       "         -0.4242, -0.4242, -0.4242, -0.4242],\n",
       "        [-0.4242, -0.4242, -0.4242, -0.4242, -0.4242, -0.4242,  1.6378,  2.7960,\n",
       "          0.7977, -0.4242, -0.4242, -0.4242, -0.4242, -0.4242,  0.6831,  2.7324,\n",
       "          2.8088,  2.4906, -0.4242, -0.4242, -0.4242, -0.4242, -0.4242, -0.4242,\n",
       "         -0.4242, -0.4242, -0.4242, -0.4242],\n",
       "        [-0.4242, -0.4242, -0.4242, -0.4242, -0.4242, -0.4242,  2.8088,  2.7960,\n",
       "          2.3251,  1.7523,  0.5049,  0.5049,  1.7523,  2.0451,  2.7324,  2.7960,\n",
       "          2.8088,  2.0451, -0.4242, -0.4242, -0.4242, -0.4242, -0.4242, -0.4242,\n",
       "         -0.4242, -0.4242, -0.4242, -0.4242],\n",
       "        [-0.4242, -0.4242, -0.4242, -0.4242, -0.4242, -0.4242,  2.2996,  2.7960,\n",
       "          2.7960,  2.7960,  2.7960,  2.7960,  2.7960,  2.7960,  2.7960,  2.7960,\n",
       "          2.6942, -0.1569, -0.4242, -0.4242, -0.4242, -0.4242, -0.4242, -0.4242,\n",
       "         -0.4242, -0.4242, -0.4242, -0.4242],\n",
       "        [-0.4242, -0.4242, -0.4242, -0.4242, -0.4242, -0.4242, -0.1060,  2.2742,\n",
       "          2.7960,  2.7960,  2.7960,  2.7960,  2.7960,  2.7960,  2.7960,  2.2105,\n",
       "          0.0085, -0.4242, -0.4242, -0.4242, -0.4242, -0.4242, -0.4242, -0.4242,\n",
       "         -0.4242, -0.4242, -0.4242, -0.4242],\n",
       "        [-0.4242, -0.4242, -0.4242, -0.4242, -0.4242, -0.4242, -0.4242, -0.2460,\n",
       "         -0.1187,  0.1740,  1.4087,  1.4087,  1.4087,  1.4087,  0.0213, -0.2587,\n",
       "         -0.4242, -0.4242, -0.4242, -0.4242, -0.4242, -0.4242, -0.4242, -0.4242,\n",
       "         -0.4242, -0.4242, -0.4242, -0.4242],\n",
       "        [-0.4242, -0.4242, -0.4242, -0.4242, -0.4242, -0.4242, -0.4242, -0.4242,\n",
       "         -0.4242, -0.4242, -0.4242, -0.4242, -0.4242, -0.4242, -0.4242, -0.4242,\n",
       "         -0.4242, -0.4242, -0.4242, -0.4242, -0.4242, -0.4242, -0.4242, -0.4242,\n",
       "         -0.4242, -0.4242, -0.4242, -0.4242],\n",
       "        [-0.4242, -0.4242, -0.4242, -0.4242, -0.4242, -0.4242, -0.4242, -0.4242,\n",
       "         -0.4242, -0.4242, -0.4242, -0.4242, -0.4242, -0.4242, -0.4242, -0.4242,\n",
       "         -0.4242, -0.4242, -0.4242, -0.4242, -0.4242, -0.4242, -0.4242, -0.4242,\n",
       "         -0.4242, -0.4242, -0.4242, -0.4242],\n",
       "        [-0.4242, -0.4242, -0.4242, -0.4242, -0.4242, -0.4242, -0.4242, -0.4242,\n",
       "         -0.4242, -0.4242, -0.4242, -0.4242, -0.4242, -0.4242, -0.4242, -0.4242,\n",
       "         -0.4242, -0.4242, -0.4242, -0.4242, -0.4242, -0.4242, -0.4242, -0.4242,\n",
       "         -0.4242, -0.4242, -0.4242, -0.4242],\n",
       "        [-0.4242, -0.4242, -0.4242, -0.4242, -0.4242, -0.4242, -0.4242, -0.4242,\n",
       "         -0.4242, -0.4242, -0.4242, -0.4242, -0.4242, -0.4242, -0.4242, -0.4242,\n",
       "         -0.4242, -0.4242, -0.4242, -0.4242, -0.4242, -0.4242, -0.4242, -0.4242,\n",
       "         -0.4242, -0.4242, -0.4242, -0.4242],\n",
       "        [-0.4242, -0.4242, -0.4242, -0.4242, -0.4242, -0.4242, -0.4242, -0.4242,\n",
       "         -0.4242, -0.4242, -0.4242, -0.4242, -0.4242, -0.4242, -0.4242, -0.4242,\n",
       "         -0.4242, -0.4242, -0.4242, -0.4242, -0.4242, -0.4242, -0.4242, -0.4242,\n",
       "         -0.4242, -0.4242, -0.4242, -0.4242]])"
      ]
     },
     "execution_count": 55,
     "metadata": {},
     "output_type": "execute_result"
    }
   ],
   "source": [
    "torch.from_numpy(tmp.numpy())"
   ]
  },
  {
   "cell_type": "code",
   "execution_count": 42,
   "metadata": {
    "ExecuteTime": {
     "end_time": "2019-11-04T15:15:37.042131Z",
     "start_time": "2019-11-04T15:15:37.037115Z"
    }
   },
   "outputs": [
    {
     "data": {
      "text/plain": [
       "tensor([[-2.2117e+01, -2.7429e+01, -2.8117e+01, -1.1735e+01, -2.7601e+01,\n",
       "         -1.1444e-05, -1.8517e+01, -3.2457e+01, -1.2605e+01, -1.7218e+01]],\n",
       "       grad_fn=<LogSoftmaxBackward>)"
      ]
     },
     "execution_count": 42,
     "metadata": {},
     "output_type": "execute_result"
    }
   ],
   "source": [
    "net(tmp.unsqueeze(0).unsqueeze(0))"
   ]
  },
  {
   "cell_type": "code",
   "execution_count": 56,
   "metadata": {
    "ExecuteTime": {
     "end_time": "2019-11-04T15:07:43.676231Z",
     "start_time": "2019-11-04T15:07:43.556945Z"
    }
   },
   "outputs": [],
   "source": [
    "# for i in range(100):\n",
    "#     data, target = dataiter.next()\n",
    "#     data = data.numpy().squeeze()\n",
    "#     plt.imsave(arr = data, fname = \"TestImages/{}-{:02}.png\".format(target.item(), i), cmap=\"gray\")"
   ]
  },
  {
   "cell_type": "code",
   "execution_count": 45,
   "metadata": {
    "ExecuteTime": {
     "end_time": "2019-11-04T15:06:22.493677Z",
     "start_time": "2019-11-04T15:06:22.395967Z"
    }
   },
   "outputs": [
    {
     "data": {
      "text/plain": [
       "<matplotlib.image.AxesImage at 0x137e09be0>"
      ]
     },
     "execution_count": 45,
     "metadata": {},
     "output_type": "execute_result"
    },
    {
     "data": {
      "image/png": "[encoded data removed]",
      "text/plain": [
       "<Figure size 432x288 with 1 Axes>"
      ]
     },
     "metadata": {
      "needs_background": "light"
     },
     "output_type": "display_data"
    }
   ],
   "source": [
    "import matplotlib.pyplot as plt\n",
    "plt.imshow(data.numpy().squeeze(), cmap=\"gray\")"
   ]
  },
  {
   "cell_type": "code",
   "execution_count": 138,
   "metadata": {
    "ExecuteTime": {
     "end_time": "2019-11-04T12:09:58.288571Z",
     "start_time": "2019-11-04T12:09:58.283226Z"
    }
   },
   "outputs": [
    {
     "data": {
      "text/plain": [
       "tensor(0)"
      ]
     },
     "execution_count": 138,
     "metadata": {},
     "output_type": "execute_result"
    }
   ],
   "source": [
    "net(data).argmax()"
   ]
  },
  {
   "cell_type": "code",
   "execution_count": null,
   "metadata": {
    "ExecuteTime": {
     "start_time": "2019-11-04T15:25:36.997Z"
    }
   },
   "outputs": [],
   "source": [
    "from __future__ import print_function\n",
    "import argparse\n",
    "import torch\n",
    "import torch.nn as nn\n",
    "import torch.nn.functional as F\n",
    "import torch.optim as optim\n",
    "from torchvision import datasets, transforms\n",
    "\n",
    "class Net(nn.Module):\n",
    "    def __init__(self):\n",
    "        super(Net, self).__init__()\n",
    "        self.conv1 = nn.Conv2d(1, 20, 5, 1)\n",
    "        self.conv2 = nn.Conv2d(20, 50, 5, 1)\n",
    "        self.fc1 = nn.Linear(4 * 4 * 50, 500)\n",
    "        self.fc2 = nn.Linear(500, 10)\n",
    "\n",
    "    def forward(self, x):\n",
    "        x = F.relu(self.conv1(x))\n",
    "        x = F.max_pool2d(x, 2, 2)\n",
    "        x = F.relu(self.conv2(x))\n",
    "        x = F.max_pool2d(x, 2, 2)\n",
    "        x = x.view(-1, 4 * 4 * 50)\n",
    "        x = F.relu(self.fc1(x))\n",
    "        x = self.fc2(x)\n",
    "        return F.log_softmax(x, dim=1)\n",
    "\n",
    "import sys, PyQt5\n",
    "from PyQt5.QtWidgets import *\n",
    "from PyQt5.QtCore import *\n",
    "from PyQt5.QtGui import *\n",
    "import matplotlib.image as mpimg \n",
    "import matplotlib.pyplot as plt\n",
    "import os\n",
    "\n",
    "class MainWindow(QMainWindow):\n",
    "\n",
    "    def __init__(self, path = \"mnist_cnn.pt\"):\n",
    "        super(MainWindow, self).__init__()\n",
    "        \n",
    "        self.model = Net()\n",
    "        self.model.load_state_dict(torch.load(path))\n",
    "        \n",
    "        self.initUI()\n",
    "        \n",
    "    def onMyToolBarButtonClick(self, s):\n",
    "        options = QFileDialog.Options()\n",
    "        options |= QFileDialog.DontUseNativeDialog\n",
    "        fileName, _ = QFileDialog.getOpenFileName(self, \"QFileDialog.getOpenFileName()\", \"\", \"All Files (*);;PNG (*.png)\", options=options)\n",
    "        \n",
    "        if fileName:\n",
    "            try:\n",
    "                self.img = mpimg.imread(fileName) \n",
    "                self.img = torch.from_numpy(self.img[:, :, 0]).unsqueeze(0).unsqueeze(0)\n",
    "                \n",
    "                pixmap = QPixmap(fileName)\n",
    "                pixmap = pixmap.scaled(self.img_label.width(), self.img_label.height())\n",
    "                \n",
    "                self.img_label.setPixmap(pixmap)\n",
    "                \n",
    "                prediction_digit = self.model(self.img).argmax()\n",
    "                output_str = \"Prediction of {}: {}\".format(os.path.basename(fileName), prediction_digit)\n",
    "                print(output_str)\n",
    "                self.digit_label.setText(output_str)\n",
    "                \n",
    "            except Exception as e:\n",
    "                print(\"Error uploading the file: {}\", e)\n",
    "            \n",
    "    def initUI(self):\n",
    "        \"\"\"initialize UI settings\"\"\"\n",
    "        \n",
    "        self.H, self.W = 600, 600\n",
    "        self.setWindowTitle(\"Simple Digit Recognition\")\n",
    "        self.setWindowIcon(QIcon(\"icons/trial.ico\"))\n",
    "        self.resize(self.W, self.H)\n",
    "        self.moveCenter()\n",
    "        \n",
    "        layout = QVBoxLayout()\n",
    "        \n",
    "        self.upload_btn = QPushButton(QIcon(\"icons/filesave.png\"), \"Upload Image\")\n",
    "        self.upload_btn.clicked.connect(self.onMyToolBarButtonClick)\n",
    "        self.upload_btn.setFixedHeight(50)\n",
    "        \n",
    "        layout.addWidget(self.upload_btn)\n",
    "        \n",
    "        self.img_label = QLabel(self)\n",
    "        self.img_label.setFixedHeight(400)\n",
    "        layout.addWidget(self.img_label)\n",
    "            \n",
    "        self.digit_label = QLabel(self)\n",
    "        self.digit_label.setFont(QFont('Arial', 32))\n",
    "\n",
    "        layout.addWidget(self.digit_label)\n",
    "        \n",
    "        widget = QWidget()\n",
    "        widget.setLayout(layout)\n",
    "        self.setCentralWidget(widget)\n",
    "        \n",
    "    def moveCenter(self):\n",
    "        \"\"\"make the window to be located at the center of desktop\"\"\"\n",
    "        qr = self.frameGeometry()\n",
    "        cp = QDesktopWidget().availableGeometry().center()\n",
    "        qr.moveCenter(cp)\n",
    "        self.move(qr.topLeft())\n",
    "        \n",
    "def main():\n",
    "    app = QApplication(sys.argv)\n",
    "    window = MainWindow()\n",
    "    window.show()\n",
    "\n",
    "    app.exec_()\n",
    "    \n",
    "if __name__ == '__main__':\n",
    "    main()"
   ]
  },
  {
   "cell_type": "code",
   "execution_count": 57,
   "metadata": {
    "ExecuteTime": {
     "end_time": "2019-11-04T15:08:17.691982Z",
     "start_time": "2019-11-04T15:08:17.593573Z"
    }
   },
   "outputs": [
    {
     "data": {
      "text/plain": [
       "<matplotlib.image.AxesImage at 0x138b95c50>"
      ]
     },
     "execution_count": 57,
     "metadata": {},
     "output_type": "execute_result"
    },
    {
     "data": {
      "image/png": "[encoded data removed]",
      "text/plain": [
       "<Figure size 432x288 with 1 Axes>"
      ]
     },
     "metadata": {
      "needs_background": "light"
     },
     "output_type": "display_data"
    }
   ],
   "source": [
    "img = mpimg.imread(\"TestImages/5-32.png\")\n",
    "plt.imshow(img[:, :, 0], cmap=\"gray\")"
   ]
  },
  {
   "cell_type": "code",
   "execution_count": null,
   "metadata": {},
   "outputs": [],
   "source": [
    "from __future__ import print_function\n",
    "import argparse\n",
    "import torch\n",
    "import torch.nn as nn\n",
    "import torch.nn.functional as F\n",
    "import torch.optim as optim\n",
    "from torchvision import datasets, transforms\n",
    "\n",
    "import sys, PyQt5\n",
    "from PyQt5.QtWidgets import *\n",
    "from PyQt5.QtCore import *\n",
    "from PyQt5.QtGui import *\n",
    "import matplotlib.image as mpimg \n",
    "import matplotlib.pyplot as plt\n",
    "import os\n",
    "\n",
    "from train import Net\n",
    "\n",
    "class MainWindow(QMainWindow):\n",
    "\n",
    "    def __init__(self, path = \"mnist_cnn.pt\"):\n",
    "        super(MainWindow, self).__init__()\n",
    "        \n",
    "        self.model = Net()\n",
    "        self.model.load_state_dict(torch.load(path))\n",
    "        \n",
    "        self.initUI()\n",
    "        \n",
    "    def onMyToolBarButtonClick(self, s):\n",
    "        options = QFileDialog.Options()\n",
    "        options |= QFileDialog.DontUseNativeDialog\n",
    "        fileName, _ = QFileDialog.getOpenFileName(self, \"QFileDialog.getOpenFileName()\", \"\", \"All Files (*);;PNG (*.png)\", options=options)\n",
    "        \n",
    "        if fileName:\n",
    "            try:\n",
    "                self.img = mpimg.imread(fileName) \n",
    "                self.img = torch.from_numpy(self.img[:, :, 0]).unsqueeze(0).unsqueeze(0)\n",
    "                \n",
    "                pixmap = QPixmap(fileName)\n",
    "                pixmap = pixmap.scaled(self.img_label.width(), self.img_label.height())\n",
    "                \n",
    "                self.img_label.setPixmap(pixmap)\n",
    "                \n",
    "                prediction_digit = self.model(self.img).argmax()\n",
    "                output_str = \"Prediction of {}: {}\".format(os.path.basename(fileName), prediction_digit)\n",
    "                print(output_str)\n",
    "                self.digit_label.setText(output_str)\n",
    "                \n",
    "            except Exception as e:\n",
    "                print(\"Error uploading the file: {}\", e)\n",
    "            \n",
    "    def initUI(self):\n",
    "        \"\"\"initialize UI settings\"\"\"\n",
    "        \n",
    "        self.H, self.W = 600, 600\n",
    "        self.setWindowTitle(\"Simple Digit Recognition\")\n",
    "        self.setWindowIcon(QIcon(\"icons/trial.ico\"))\n",
    "        self.resize(self.W, self.H)\n",
    "        self.moveCenter()\n",
    "        \n",
    "        layout = QVBoxLayout()\n",
    "        \n",
    "        self.upload_btn = QPushButton(QIcon(\"icons/filesave.png\"), \"Upload Image\")\n",
    "        self.upload_btn.clicked.connect(self.onMyToolBarButtonClick)\n",
    "        self.upload_btn.setFixedHeight(50)\n",
    "        \n",
    "        layout.addWidget(self.upload_btn)\n",
    "        \n",
    "        self.img_label = QLabel(self)\n",
    "        self.img_label.setFixedHeight(400)\n",
    "        layout.addWidget(self.img_label)\n",
    "            \n",
    "        self.digit_label = QLabel(self)\n",
    "        self.digit_label.setFont(QFont('Arial', 32))\n",
    "\n",
    "        layout.addWidget(self.digit_label)\n",
    "        \n",
    "        widget = QWidget()\n",
    "        widget.setLayout(layout)\n",
    "        self.setCentralWidget(widget)\n",
    "        \n",
    "    def moveCenter(self):\n",
    "        \"\"\"make the window to be located at the center of desktop\"\"\"\n",
    "        qr = self.frameGeometry()\n",
    "        cp = QDesktopWidget().availableGeometry().center()\n",
    "        qr.moveCenter(cp)\n",
    "        self.move(qr.topLeft())\n",
    "        \n",
    "def main():\n",
    "    app = QApplication(sys.argv)\n",
    "    window = MainWindow()\n",
    "    window.show()\n",
    "\n",
    "    app.exec_()\n",
    "    \n",
    "if __name__ == '__main__':\n",
    "    main()"
   ]
  }
 ],
 "metadata": {
  "kernelspec": {
   "display_name": "Python 3",
   "language": "python",
   "name": "python3"
  },
  "language_info": {
   "codemirror_mode": {
    "name": "ipython",
    "version": 3
   },
   "file_extension": ".py",
   "mimetype": "text/x-python",
   "name": "python",
   "nbconvert_exporter": "python",
   "pygments_lexer": "ipython3",
   "version": "3.7.2"
  }
 },
 "nbformat": 4,
 "nbformat_minor": 2
}
